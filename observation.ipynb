{
 "cells": [
  {
   "cell_type": "code",
   "execution_count": 1,
   "id": "82248082-7eae-4d5f-bb01-152823a59471",
   "metadata": {},
   "outputs": [],
   "source": [
    "import numpy as np\n",
    "import pandas as pd\n",
    "import matplotlib.pyplot as plt \n",
    "import seaborn as sns\n",
    "\n",
    "%matplotlib inline\n",
    "\n",
    "# import the sklearn models \n",
    "from sklearn.linear_model import LogisticRegression\n",
    "from sklearn.neighbors import KNeighborsClassifier\n",
    "from sklearn.ensemble import RandomForestClassifier\n",
    "\n",
    "#>> 100k sampples\n",
    "from sklearn.linear_model import SGDClassifier\n",
    "from sklearn.kernel_approximation import RBFSampler\n",
    "from sklearn.linear_model import SGDClassifier\n",
    "\n",
    "# Evaluation models\n",
    "from sklearn.model_selection import train_test_split, cross_val_score\n",
    "from sklearn.model_selection import RandomizedSearchCV, GridSearchCV\n",
    "from sklearn.metrics import confusion_matrix, classification_report\n",
    "from sklearn.metrics import precision_score, recall_score, f1_score\n",
    "from sklearn.metrics import RocCurveDisplay"
   ]
  },
  {
   "cell_type": "code",
   "execution_count": 2,
   "id": "eb765ef1-f79a-4f92-a495-9333cdc9d91d",
   "metadata": {},
   "outputs": [],
   "source": [
    "application_data = pd.read_csv(\"dataset/application_data.csv\")"
   ]
  },
  {
   "cell_type": "code",
   "execution_count": 5,
   "id": "e2d4676c-f338-4742-960a-aa6622c99800",
   "metadata": {},
   "outputs": [
    {
     "name": "stdout",
     "output_type": "stream",
     "text": [
      "<class 'pandas.core.frame.DataFrame'>\n",
      "RangeIndex: 307511 entries, 0 to 307510\n",
      "Data columns (total 20 columns):\n",
      " #   Column                      Non-Null Count   Dtype  \n",
      "---  ------                      --------------   -----  \n",
      " 0   SK_ID_CURR                  307511 non-null  int64  \n",
      " 1   TARGET                      307511 non-null  int64  \n",
      " 2   NAME_CONTRACT_TYPE          307511 non-null  object \n",
      " 3   CODE_GENDER                 307511 non-null  object \n",
      " 4   FLAG_OWN_CAR                307511 non-null  object \n",
      " 5   FLAG_OWN_REALTY             307511 non-null  object \n",
      " 6   CNT_CHILDREN                307511 non-null  int64  \n",
      " 7   AMT_INCOME_TOTAL            307511 non-null  float64\n",
      " 8   AMT_CREDIT                  307511 non-null  float64\n",
      " 9   AMT_ANNUITY                 307499 non-null  float64\n",
      " 10  AMT_GOODS_PRICE             307233 non-null  float64\n",
      " 11  NAME_TYPE_SUITE             306219 non-null  object \n",
      " 12  NAME_INCOME_TYPE            307511 non-null  object \n",
      " 13  NAME_EDUCATION_TYPE         307511 non-null  object \n",
      " 14  NAME_FAMILY_STATUS          307511 non-null  object \n",
      " 15  NAME_HOUSING_TYPE           307511 non-null  object \n",
      " 16  REGION_POPULATION_RELATIVE  307511 non-null  float64\n",
      " 17  DAYS_BIRTH                  307511 non-null  int64  \n",
      " 18  DAYS_EMPLOYED               307511 non-null  int64  \n",
      " 19  DAYS_REGISTRATION           307511 non-null  float64\n",
      "dtypes: float64(6), int64(5), object(9)\n",
      "memory usage: 46.9+ MB\n"
     ]
    }
   ],
   "source": [
    "subset1 = application_data.iloc[:, 0:20]\n",
    "subset1.info()"
   ]
  },
  {
   "cell_type": "code",
   "execution_count": 6,
   "id": "73192fab-ce33-4844-862b-cc3dbc8c815f",
   "metadata": {},
   "outputs": [
    {
     "data": {
      "text/plain": [
       "SK_ID_CURR                       0\n",
       "TARGET                           0\n",
       "NAME_CONTRACT_TYPE               0\n",
       "CODE_GENDER                      0\n",
       "FLAG_OWN_CAR                     0\n",
       "FLAG_OWN_REALTY                  0\n",
       "CNT_CHILDREN                     0\n",
       "AMT_INCOME_TOTAL                 0\n",
       "AMT_CREDIT                       0\n",
       "AMT_ANNUITY                     12\n",
       "AMT_GOODS_PRICE                278\n",
       "NAME_TYPE_SUITE               1292\n",
       "NAME_INCOME_TYPE                 0\n",
       "NAME_EDUCATION_TYPE              0\n",
       "NAME_FAMILY_STATUS               0\n",
       "NAME_HOUSING_TYPE                0\n",
       "REGION_POPULATION_RELATIVE       0\n",
       "DAYS_BIRTH                       0\n",
       "DAYS_EMPLOYED                    0\n",
       "DAYS_REGISTRATION                0\n",
       "dtype: int64"
      ]
     },
     "execution_count": 6,
     "metadata": {},
     "output_type": "execute_result"
    }
   ],
   "source": [
    "subset1.isna().sum()"
   ]
  },
  {
   "cell_type": "code",
   "execution_count": 7,
   "id": "fc0b2d39-728e-4a8c-b374-86a1e735e5b0",
   "metadata": {},
   "outputs": [
    {
     "name": "stdout",
     "output_type": "stream",
     "text": [
      "<class 'pandas.core.frame.DataFrame'>\n",
      "RangeIndex: 307511 entries, 0 to 307510\n",
      "Data columns (total 20 columns):\n",
      " #   Column                       Non-Null Count   Dtype  \n",
      "---  ------                       --------------   -----  \n",
      " 0   DAYS_ID_PUBLISH              307511 non-null  int64  \n",
      " 1   OWN_CAR_AGE                  104582 non-null  float64\n",
      " 2   FLAG_MOBIL                   307511 non-null  int64  \n",
      " 3   FLAG_EMP_PHONE               307511 non-null  int64  \n",
      " 4   FLAG_WORK_PHONE              307511 non-null  int64  \n",
      " 5   FLAG_CONT_MOBILE             307511 non-null  int64  \n",
      " 6   FLAG_PHONE                   307511 non-null  int64  \n",
      " 7   FLAG_EMAIL                   307511 non-null  int64  \n",
      " 8   OCCUPATION_TYPE              211120 non-null  object \n",
      " 9   CNT_FAM_MEMBERS              307509 non-null  float64\n",
      " 10  REGION_RATING_CLIENT         307511 non-null  int64  \n",
      " 11  REGION_RATING_CLIENT_W_CITY  307511 non-null  int64  \n",
      " 12  WEEKDAY_APPR_PROCESS_START   307511 non-null  object \n",
      " 13  HOUR_APPR_PROCESS_START      307511 non-null  int64  \n",
      " 14  REG_REGION_NOT_LIVE_REGION   307511 non-null  int64  \n",
      " 15  REG_REGION_NOT_WORK_REGION   307511 non-null  int64  \n",
      " 16  LIVE_REGION_NOT_WORK_REGION  307511 non-null  int64  \n",
      " 17  REG_CITY_NOT_LIVE_CITY       307511 non-null  int64  \n",
      " 18  REG_CITY_NOT_WORK_CITY       307511 non-null  int64  \n",
      " 19  LIVE_CITY_NOT_WORK_CITY      307511 non-null  int64  \n",
      "dtypes: float64(2), int64(16), object(2)\n",
      "memory usage: 46.9+ MB\n"
     ]
    }
   ],
   "source": [
    "subset2 = application_data.iloc[:, 20:40]\n",
    "subset2.info()"
   ]
  },
  {
   "cell_type": "code",
   "execution_count": 8,
   "id": "e896dff2-002e-4b05-8e0f-3bd8d8b324f3",
   "metadata": {},
   "outputs": [
    {
     "data": {
      "text/plain": [
       "DAYS_ID_PUBLISH                     0\n",
       "OWN_CAR_AGE                    202929\n",
       "FLAG_MOBIL                          0\n",
       "FLAG_EMP_PHONE                      0\n",
       "FLAG_WORK_PHONE                     0\n",
       "FLAG_CONT_MOBILE                    0\n",
       "FLAG_PHONE                          0\n",
       "FLAG_EMAIL                          0\n",
       "OCCUPATION_TYPE                 96391\n",
       "CNT_FAM_MEMBERS                     2\n",
       "REGION_RATING_CLIENT                0\n",
       "REGION_RATING_CLIENT_W_CITY         0\n",
       "WEEKDAY_APPR_PROCESS_START          0\n",
       "HOUR_APPR_PROCESS_START             0\n",
       "REG_REGION_NOT_LIVE_REGION          0\n",
       "REG_REGION_NOT_WORK_REGION          0\n",
       "LIVE_REGION_NOT_WORK_REGION         0\n",
       "REG_CITY_NOT_LIVE_CITY              0\n",
       "REG_CITY_NOT_WORK_CITY              0\n",
       "LIVE_CITY_NOT_WORK_CITY             0\n",
       "dtype: int64"
      ]
     },
     "execution_count": 8,
     "metadata": {},
     "output_type": "execute_result"
    }
   ],
   "source": [
    "subset2.isna().sum()"
   ]
  },
  {
   "cell_type": "code",
   "execution_count": 10,
   "id": "a0334f7c-d2f1-4f3f-9bc7-12adc27b3a25",
   "metadata": {},
   "outputs": [
    {
     "data": {
      "text/plain": [
       "ORGANIZATION_TYPE                   0\n",
       "EXT_SOURCE_1                   173378\n",
       "EXT_SOURCE_2                      660\n",
       "EXT_SOURCE_3                    60965\n",
       "APARTMENTS_AVG                 156061\n",
       "BASEMENTAREA_AVG               179943\n",
       "YEARS_BEGINEXPLUATATION_AVG    150007\n",
       "YEARS_BUILD_AVG                204488\n",
       "COMMONAREA_AVG                 214865\n",
       "ELEVATORS_AVG                  163891\n",
       "ENTRANCES_AVG                  154828\n",
       "FLOORSMAX_AVG                  153020\n",
       "FLOORSMIN_AVG                  208642\n",
       "LANDAREA_AVG                   182590\n",
       "LIVINGAPARTMENTS_AVG           210199\n",
       "LIVINGAREA_AVG                 154350\n",
       "NONLIVINGAPARTMENTS_AVG        213514\n",
       "NONLIVINGAREA_AVG              169682\n",
       "APARTMENTS_MODE                156061\n",
       "BASEMENTAREA_MODE              179943\n",
       "dtype: int64"
      ]
     },
     "execution_count": 10,
     "metadata": {},
     "output_type": "execute_result"
    }
   ],
   "source": [
    "subset3.isna().sum()"
   ]
  },
  {
   "cell_type": "code",
   "execution_count": 9,
   "id": "d8695478-cafe-4ff7-821d-c8351467e67b",
   "metadata": {},
   "outputs": [
    {
     "name": "stdout",
     "output_type": "stream",
     "text": [
      "<class 'pandas.core.frame.DataFrame'>\n",
      "RangeIndex: 307511 entries, 0 to 307510\n",
      "Data columns (total 20 columns):\n",
      " #   Column                       Non-Null Count   Dtype  \n",
      "---  ------                       --------------   -----  \n",
      " 0   ORGANIZATION_TYPE            307511 non-null  object \n",
      " 1   EXT_SOURCE_1                 134133 non-null  float64\n",
      " 2   EXT_SOURCE_2                 306851 non-null  float64\n",
      " 3   EXT_SOURCE_3                 246546 non-null  float64\n",
      " 4   APARTMENTS_AVG               151450 non-null  float64\n",
      " 5   BASEMENTAREA_AVG             127568 non-null  float64\n",
      " 6   YEARS_BEGINEXPLUATATION_AVG  157504 non-null  float64\n",
      " 7   YEARS_BUILD_AVG              103023 non-null  float64\n",
      " 8   COMMONAREA_AVG               92646 non-null   float64\n",
      " 9   ELEVATORS_AVG                143620 non-null  float64\n",
      " 10  ENTRANCES_AVG                152683 non-null  float64\n",
      " 11  FLOORSMAX_AVG                154491 non-null  float64\n",
      " 12  FLOORSMIN_AVG                98869 non-null   float64\n",
      " 13  LANDAREA_AVG                 124921 non-null  float64\n",
      " 14  LIVINGAPARTMENTS_AVG         97312 non-null   float64\n",
      " 15  LIVINGAREA_AVG               153161 non-null  float64\n",
      " 16  NONLIVINGAPARTMENTS_AVG      93997 non-null   float64\n",
      " 17  NONLIVINGAREA_AVG            137829 non-null  float64\n",
      " 18  APARTMENTS_MODE              151450 non-null  float64\n",
      " 19  BASEMENTAREA_MODE            127568 non-null  float64\n",
      "dtypes: float64(19), object(1)\n",
      "memory usage: 46.9+ MB\n"
     ]
    }
   ],
   "source": [
    "subset3 = application_data.iloc[:, 40:60]\n",
    "subset3.info()"
   ]
  },
  {
   "cell_type": "code",
   "execution_count": 12,
   "id": "936e6b97-9a1e-4972-8402-4424a55fd657",
   "metadata": {},
   "outputs": [
    {
     "data": {
      "text/plain": [
       "YEARS_BEGINEXPLUATATION_MODE    150007\n",
       "YEARS_BUILD_MODE                204488\n",
       "COMMONAREA_MODE                 214865\n",
       "ELEVATORS_MODE                  163891\n",
       "ENTRANCES_MODE                  154828\n",
       "FLOORSMAX_MODE                  153020\n",
       "FLOORSMIN_MODE                  208642\n",
       "LANDAREA_MODE                   182590\n",
       "LIVINGAPARTMENTS_MODE           210199\n",
       "LIVINGAREA_MODE                 154350\n",
       "NONLIVINGAPARTMENTS_MODE        213514\n",
       "NONLIVINGAREA_MODE              169682\n",
       "APARTMENTS_MEDI                 156061\n",
       "BASEMENTAREA_MEDI               179943\n",
       "YEARS_BEGINEXPLUATATION_MEDI    150007\n",
       "YEARS_BUILD_MEDI                204488\n",
       "COMMONAREA_MEDI                 214865\n",
       "ELEVATORS_MEDI                  163891\n",
       "ENTRANCES_MEDI                  154828\n",
       "FLOORSMAX_MEDI                  153020\n",
       "dtype: int64"
      ]
     },
     "execution_count": 12,
     "metadata": {},
     "output_type": "execute_result"
    }
   ],
   "source": [
    "subset4.isna().sum()"
   ]
  },
  {
   "cell_type": "code",
   "execution_count": 11,
   "id": "7b222c64-4a50-469a-9a1a-e539734a03bd",
   "metadata": {},
   "outputs": [
    {
     "name": "stdout",
     "output_type": "stream",
     "text": [
      "<class 'pandas.core.frame.DataFrame'>\n",
      "RangeIndex: 307511 entries, 0 to 307510\n",
      "Data columns (total 20 columns):\n",
      " #   Column                        Non-Null Count   Dtype  \n",
      "---  ------                        --------------   -----  \n",
      " 0   YEARS_BEGINEXPLUATATION_MODE  157504 non-null  float64\n",
      " 1   YEARS_BUILD_MODE              103023 non-null  float64\n",
      " 2   COMMONAREA_MODE               92646 non-null   float64\n",
      " 3   ELEVATORS_MODE                143620 non-null  float64\n",
      " 4   ENTRANCES_MODE                152683 non-null  float64\n",
      " 5   FLOORSMAX_MODE                154491 non-null  float64\n",
      " 6   FLOORSMIN_MODE                98869 non-null   float64\n",
      " 7   LANDAREA_MODE                 124921 non-null  float64\n",
      " 8   LIVINGAPARTMENTS_MODE         97312 non-null   float64\n",
      " 9   LIVINGAREA_MODE               153161 non-null  float64\n",
      " 10  NONLIVINGAPARTMENTS_MODE      93997 non-null   float64\n",
      " 11  NONLIVINGAREA_MODE            137829 non-null  float64\n",
      " 12  APARTMENTS_MEDI               151450 non-null  float64\n",
      " 13  BASEMENTAREA_MEDI             127568 non-null  float64\n",
      " 14  YEARS_BEGINEXPLUATATION_MEDI  157504 non-null  float64\n",
      " 15  YEARS_BUILD_MEDI              103023 non-null  float64\n",
      " 16  COMMONAREA_MEDI               92646 non-null   float64\n",
      " 17  ELEVATORS_MEDI                143620 non-null  float64\n",
      " 18  ENTRANCES_MEDI                152683 non-null  float64\n",
      " 19  FLOORSMAX_MEDI                154491 non-null  float64\n",
      "dtypes: float64(20)\n",
      "memory usage: 46.9 MB\n"
     ]
    }
   ],
   "source": [
    "subset4 = application_data.iloc[:, 60:80]\n",
    "subset4.info()"
   ]
  },
  {
   "cell_type": "code",
   "execution_count": 14,
   "id": "2970ea02-ecfb-4587-903f-83d02640d580",
   "metadata": {},
   "outputs": [
    {
     "data": {
      "text/plain": [
       "FLOORSMIN_MEDI              208642\n",
       "LANDAREA_MEDI               182590\n",
       "LIVINGAPARTMENTS_MEDI       210199\n",
       "LIVINGAREA_MEDI             154350\n",
       "NONLIVINGAPARTMENTS_MEDI    213514\n",
       "NONLIVINGAREA_MEDI          169682\n",
       "FONDKAPREMONT_MODE          210295\n",
       "HOUSETYPE_MODE              154297\n",
       "TOTALAREA_MODE              148431\n",
       "WALLSMATERIAL_MODE          156341\n",
       "EMERGENCYSTATE_MODE         145755\n",
       "OBS_30_CNT_SOCIAL_CIRCLE      1021\n",
       "DEF_30_CNT_SOCIAL_CIRCLE      1021\n",
       "OBS_60_CNT_SOCIAL_CIRCLE      1021\n",
       "DEF_60_CNT_SOCIAL_CIRCLE      1021\n",
       "DAYS_LAST_PHONE_CHANGE           1\n",
       "FLAG_DOCUMENT_2                  0\n",
       "FLAG_DOCUMENT_3                  0\n",
       "FLAG_DOCUMENT_4                  0\n",
       "FLAG_DOCUMENT_5                  0\n",
       "dtype: int64"
      ]
     },
     "execution_count": 14,
     "metadata": {},
     "output_type": "execute_result"
    }
   ],
   "source": [
    "subset5.isna().sum()"
   ]
  },
  {
   "cell_type": "code",
   "execution_count": 13,
   "id": "e8634908-32c5-427a-b662-40f5a2cca0c7",
   "metadata": {},
   "outputs": [
    {
     "name": "stdout",
     "output_type": "stream",
     "text": [
      "<class 'pandas.core.frame.DataFrame'>\n",
      "RangeIndex: 307511 entries, 0 to 307510\n",
      "Data columns (total 20 columns):\n",
      " #   Column                    Non-Null Count   Dtype  \n",
      "---  ------                    --------------   -----  \n",
      " 0   FLOORSMIN_MEDI            98869 non-null   float64\n",
      " 1   LANDAREA_MEDI             124921 non-null  float64\n",
      " 2   LIVINGAPARTMENTS_MEDI     97312 non-null   float64\n",
      " 3   LIVINGAREA_MEDI           153161 non-null  float64\n",
      " 4   NONLIVINGAPARTMENTS_MEDI  93997 non-null   float64\n",
      " 5   NONLIVINGAREA_MEDI        137829 non-null  float64\n",
      " 6   FONDKAPREMONT_MODE        97216 non-null   object \n",
      " 7   HOUSETYPE_MODE            153214 non-null  object \n",
      " 8   TOTALAREA_MODE            159080 non-null  float64\n",
      " 9   WALLSMATERIAL_MODE        151170 non-null  object \n",
      " 10  EMERGENCYSTATE_MODE       161756 non-null  object \n",
      " 11  OBS_30_CNT_SOCIAL_CIRCLE  306490 non-null  float64\n",
      " 12  DEF_30_CNT_SOCIAL_CIRCLE  306490 non-null  float64\n",
      " 13  OBS_60_CNT_SOCIAL_CIRCLE  306490 non-null  float64\n",
      " 14  DEF_60_CNT_SOCIAL_CIRCLE  306490 non-null  float64\n",
      " 15  DAYS_LAST_PHONE_CHANGE    307510 non-null  float64\n",
      " 16  FLAG_DOCUMENT_2           307511 non-null  int64  \n",
      " 17  FLAG_DOCUMENT_3           307511 non-null  int64  \n",
      " 18  FLAG_DOCUMENT_4           307511 non-null  int64  \n",
      " 19  FLAG_DOCUMENT_5           307511 non-null  int64  \n",
      "dtypes: float64(12), int64(4), object(4)\n",
      "memory usage: 46.9+ MB\n"
     ]
    }
   ],
   "source": [
    "subset5 = application_data.iloc[:, 80:100]\n",
    "subset5.info()"
   ]
  },
  {
   "cell_type": "code",
   "execution_count": 16,
   "id": "0312d690-329b-4200-860d-bfde2545bc5b",
   "metadata": {},
   "outputs": [
    {
     "data": {
      "text/plain": [
       "FLAG_DOCUMENT_6                   0\n",
       "FLAG_DOCUMENT_7                   0\n",
       "FLAG_DOCUMENT_8                   0\n",
       "FLAG_DOCUMENT_9                   0\n",
       "FLAG_DOCUMENT_10                  0\n",
       "FLAG_DOCUMENT_11                  0\n",
       "FLAG_DOCUMENT_12                  0\n",
       "FLAG_DOCUMENT_13                  0\n",
       "FLAG_DOCUMENT_14                  0\n",
       "FLAG_DOCUMENT_15                  0\n",
       "FLAG_DOCUMENT_16                  0\n",
       "FLAG_DOCUMENT_17                  0\n",
       "FLAG_DOCUMENT_18                  0\n",
       "FLAG_DOCUMENT_19                  0\n",
       "FLAG_DOCUMENT_20                  0\n",
       "FLAG_DOCUMENT_21                  0\n",
       "AMT_REQ_CREDIT_BUREAU_HOUR    41519\n",
       "AMT_REQ_CREDIT_BUREAU_DAY     41519\n",
       "AMT_REQ_CREDIT_BUREAU_WEEK    41519\n",
       "AMT_REQ_CREDIT_BUREAU_MON     41519\n",
       "AMT_REQ_CREDIT_BUREAU_QRT     41519\n",
       "AMT_REQ_CREDIT_BUREAU_YEAR    41519\n",
       "dtype: int64"
      ]
     },
     "execution_count": 16,
     "metadata": {},
     "output_type": "execute_result"
    }
   ],
   "source": [
    "subset6.isna().sum()"
   ]
  },
  {
   "cell_type": "code",
   "execution_count": 15,
   "id": "88e6278b-a037-4fa4-a2e1-e03d085a01cd",
   "metadata": {},
   "outputs": [
    {
     "name": "stdout",
     "output_type": "stream",
     "text": [
      "<class 'pandas.core.frame.DataFrame'>\n",
      "RangeIndex: 307511 entries, 0 to 307510\n",
      "Data columns (total 22 columns):\n",
      " #   Column                      Non-Null Count   Dtype  \n",
      "---  ------                      --------------   -----  \n",
      " 0   FLAG_DOCUMENT_6             307511 non-null  int64  \n",
      " 1   FLAG_DOCUMENT_7             307511 non-null  int64  \n",
      " 2   FLAG_DOCUMENT_8             307511 non-null  int64  \n",
      " 3   FLAG_DOCUMENT_9             307511 non-null  int64  \n",
      " 4   FLAG_DOCUMENT_10            307511 non-null  int64  \n",
      " 5   FLAG_DOCUMENT_11            307511 non-null  int64  \n",
      " 6   FLAG_DOCUMENT_12            307511 non-null  int64  \n",
      " 7   FLAG_DOCUMENT_13            307511 non-null  int64  \n",
      " 8   FLAG_DOCUMENT_14            307511 non-null  int64  \n",
      " 9   FLAG_DOCUMENT_15            307511 non-null  int64  \n",
      " 10  FLAG_DOCUMENT_16            307511 non-null  int64  \n",
      " 11  FLAG_DOCUMENT_17            307511 non-null  int64  \n",
      " 12  FLAG_DOCUMENT_18            307511 non-null  int64  \n",
      " 13  FLAG_DOCUMENT_19            307511 non-null  int64  \n",
      " 14  FLAG_DOCUMENT_20            307511 non-null  int64  \n",
      " 15  FLAG_DOCUMENT_21            307511 non-null  int64  \n",
      " 16  AMT_REQ_CREDIT_BUREAU_HOUR  265992 non-null  float64\n",
      " 17  AMT_REQ_CREDIT_BUREAU_DAY   265992 non-null  float64\n",
      " 18  AMT_REQ_CREDIT_BUREAU_WEEK  265992 non-null  float64\n",
      " 19  AMT_REQ_CREDIT_BUREAU_MON   265992 non-null  float64\n",
      " 20  AMT_REQ_CREDIT_BUREAU_QRT   265992 non-null  float64\n",
      " 21  AMT_REQ_CREDIT_BUREAU_YEAR  265992 non-null  float64\n",
      "dtypes: float64(6), int64(16)\n",
      "memory usage: 51.6 MB\n"
     ]
    }
   ],
   "source": [
    "subset6 = application_data.iloc[:, 100:122]\n",
    "subset6.info()"
   ]
  },
  {
   "cell_type": "code",
   "execution_count": 18,
   "id": "d122f36c-bdf8-4084-b11d-14206141f3da",
   "metadata": {},
   "outputs": [],
   "source": [
    "remove_columns = []"
   ]
  },
  {
   "cell_type": "code",
   "execution_count": 24,
   "id": "cb573641-4e6d-47ed-8b2e-2b6615c8db8a",
   "metadata": {},
   "outputs": [],
   "source": [
    "perfect_columns = []"
   ]
  },
  {
   "cell_type": "code",
   "execution_count": 25,
   "id": "4453f707-6689-4421-8065-634dd2727d22",
   "metadata": {},
   "outputs": [],
   "source": [
    "objectsc = []\n",
    "missingdata = []"
   ]
  },
  {
   "cell_type": "code",
   "execution_count": 27,
   "id": "18682246-1a57-49b8-aed4-344f09b376f5",
   "metadata": {},
   "outputs": [
    {
     "data": {
      "text/plain": [
       "Index(['NAME_CONTRACT_TYPE', 'CODE_GENDER', 'FLAG_OWN_CAR', 'FLAG_OWN_REALTY',\n",
       "       'NAME_TYPE_SUITE', 'NAME_INCOME_TYPE', 'NAME_EDUCATION_TYPE',\n",
       "       'NAME_FAMILY_STATUS', 'NAME_HOUSING_TYPE', 'OCCUPATION_TYPE',\n",
       "       'WEEKDAY_APPR_PROCESS_START', 'ORGANIZATION_TYPE', 'FONDKAPREMONT_MODE',\n",
       "       'HOUSETYPE_MODE', 'WALLSMATERIAL_MODE', 'EMERGENCYSTATE_MODE'],\n",
       "      dtype='object')"
      ]
     },
     "execution_count": 27,
     "metadata": {},
     "output_type": "execute_result"
    }
   ],
   "source": [
    "objectcolumns = application_data.select_dtypes('object').columns\n",
    "objectcolumns"
   ]
  },
  {
   "cell_type": "code",
   "execution_count": 28,
   "id": "5083f96f-486e-4419-956c-6b82dd6f530b",
   "metadata": {},
   "outputs": [
    {
     "data": {
      "text/plain": [
       "Index(['SK_ID_CURR', 'TARGET', 'CNT_CHILDREN', 'DAYS_BIRTH', 'DAYS_EMPLOYED',\n",
       "       'DAYS_ID_PUBLISH', 'FLAG_MOBIL', 'FLAG_EMP_PHONE', 'FLAG_WORK_PHONE',\n",
       "       'FLAG_CONT_MOBILE', 'FLAG_PHONE', 'FLAG_EMAIL', 'REGION_RATING_CLIENT',\n",
       "       'REGION_RATING_CLIENT_W_CITY', 'HOUR_APPR_PROCESS_START',\n",
       "       'REG_REGION_NOT_LIVE_REGION', 'REG_REGION_NOT_WORK_REGION',\n",
       "       'LIVE_REGION_NOT_WORK_REGION', 'REG_CITY_NOT_LIVE_CITY',\n",
       "       'REG_CITY_NOT_WORK_CITY', 'LIVE_CITY_NOT_WORK_CITY', 'FLAG_DOCUMENT_2',\n",
       "       'FLAG_DOCUMENT_3', 'FLAG_DOCUMENT_4', 'FLAG_DOCUMENT_5',\n",
       "       'FLAG_DOCUMENT_6', 'FLAG_DOCUMENT_7', 'FLAG_DOCUMENT_8',\n",
       "       'FLAG_DOCUMENT_9', 'FLAG_DOCUMENT_10', 'FLAG_DOCUMENT_11',\n",
       "       'FLAG_DOCUMENT_12', 'FLAG_DOCUMENT_13', 'FLAG_DOCUMENT_14',\n",
       "       'FLAG_DOCUMENT_15', 'FLAG_DOCUMENT_16', 'FLAG_DOCUMENT_17',\n",
       "       'FLAG_DOCUMENT_18', 'FLAG_DOCUMENT_19', 'FLAG_DOCUMENT_20',\n",
       "       'FLAG_DOCUMENT_21'],\n",
       "      dtype='object')"
      ]
     },
     "execution_count": 28,
     "metadata": {},
     "output_type": "execute_result"
    }
   ],
   "source": [
    "Integercolumns = application_data.select_dtypes('int64').columns\n",
    "Integercolumns"
   ]
  },
  {
   "cell_type": "code",
   "execution_count": 29,
   "id": "44760c1c-d579-469b-8b38-9307857c7674",
   "metadata": {},
   "outputs": [
    {
     "data": {
      "text/plain": [
       "Index(['AMT_INCOME_TOTAL', 'AMT_CREDIT', 'AMT_ANNUITY', 'AMT_GOODS_PRICE',\n",
       "       'REGION_POPULATION_RELATIVE', 'DAYS_REGISTRATION', 'OWN_CAR_AGE',\n",
       "       'CNT_FAM_MEMBERS', 'EXT_SOURCE_1', 'EXT_SOURCE_2', 'EXT_SOURCE_3',\n",
       "       'APARTMENTS_AVG', 'BASEMENTAREA_AVG', 'YEARS_BEGINEXPLUATATION_AVG',\n",
       "       'YEARS_BUILD_AVG', 'COMMONAREA_AVG', 'ELEVATORS_AVG', 'ENTRANCES_AVG',\n",
       "       'FLOORSMAX_AVG', 'FLOORSMIN_AVG', 'LANDAREA_AVG',\n",
       "       'LIVINGAPARTMENTS_AVG', 'LIVINGAREA_AVG', 'NONLIVINGAPARTMENTS_AVG',\n",
       "       'NONLIVINGAREA_AVG', 'APARTMENTS_MODE', 'BASEMENTAREA_MODE',\n",
       "       'YEARS_BEGINEXPLUATATION_MODE', 'YEARS_BUILD_MODE', 'COMMONAREA_MODE',\n",
       "       'ELEVATORS_MODE', 'ENTRANCES_MODE', 'FLOORSMAX_MODE', 'FLOORSMIN_MODE',\n",
       "       'LANDAREA_MODE', 'LIVINGAPARTMENTS_MODE', 'LIVINGAREA_MODE',\n",
       "       'NONLIVINGAPARTMENTS_MODE', 'NONLIVINGAREA_MODE', 'APARTMENTS_MEDI',\n",
       "       'BASEMENTAREA_MEDI', 'YEARS_BEGINEXPLUATATION_MEDI', 'YEARS_BUILD_MEDI',\n",
       "       'COMMONAREA_MEDI', 'ELEVATORS_MEDI', 'ENTRANCES_MEDI', 'FLOORSMAX_MEDI',\n",
       "       'FLOORSMIN_MEDI', 'LANDAREA_MEDI', 'LIVINGAPARTMENTS_MEDI',\n",
       "       'LIVINGAREA_MEDI', 'NONLIVINGAPARTMENTS_MEDI', 'NONLIVINGAREA_MEDI',\n",
       "       'TOTALAREA_MODE', 'OBS_30_CNT_SOCIAL_CIRCLE',\n",
       "       'DEF_30_CNT_SOCIAL_CIRCLE', 'OBS_60_CNT_SOCIAL_CIRCLE',\n",
       "       'DEF_60_CNT_SOCIAL_CIRCLE', 'DAYS_LAST_PHONE_CHANGE',\n",
       "       'AMT_REQ_CREDIT_BUREAU_HOUR', 'AMT_REQ_CREDIT_BUREAU_DAY',\n",
       "       'AMT_REQ_CREDIT_BUREAU_WEEK', 'AMT_REQ_CREDIT_BUREAU_MON',\n",
       "       'AMT_REQ_CREDIT_BUREAU_QRT', 'AMT_REQ_CREDIT_BUREAU_YEAR'],\n",
       "      dtype='object')"
      ]
     },
     "execution_count": 29,
     "metadata": {},
     "output_type": "execute_result"
    }
   ],
   "source": [
    "floatcolumns = application_data.select_dtypes('float64').columns\n",
    "floatcolumns"
   ]
  },
  {
   "cell_type": "code",
   "execution_count": 33,
   "id": "d4f52a59-097b-4960-a05d-0a91be4b2c91",
   "metadata": {},
   "outputs": [],
   "source": [
    "# columns with no missing value and not object as a datatype\n",
    "draft1 = ['CNT_CHILDREN','AMT_INCOME_TOTAL', 'AMT_CREDIT', 'AMT_ANNUITY', 'AMT_GOODS_PRICE',\n",
    "         'REGION_POPULATION_RELATIVE','DAYS_BIRTH', 'DAYS_EMPLOYED','DAYS_REGISTRATION',\n",
    "         'DAYS_ID_PUBLISH','OWN_CAR_AGE','FLAG_MOBIL', 'FLAG_EMP_PHONE', 'FLAG_WORK_PHONE',\n",
    "         'FLAG_CONT_MOBILE', 'FLAG_PHONE', 'FLAG_EMAIL','REGION_RATING_CLIENT',\n",
    "       'REGION_RATING_CLIENT_W_CITY', 'REG_REGION_NOT_LIVE_REGION', 'REG_REGION_NOT_WORK_REGION',\n",
    "       'LIVE_REGION_NOT_WORK_REGION', 'REG_CITY_NOT_LIVE_CITY',\n",
    "       'REG_CITY_NOT_WORK_CITY', 'LIVE_CITY_NOT_WORK_CITY','DAYS_LAST_PHONE_CHANGE','FLAG_DOCUMENT_2',\n",
    "       'FLAG_DOCUMENT_3', 'FLAG_DOCUMENT_4', 'FLAG_DOCUMENT_5',\n",
    "       'FLAG_DOCUMENT_6', 'FLAG_DOCUMENT_7', 'FLAG_DOCUMENT_8',\n",
    "       'FLAG_DOCUMENT_9', 'FLAG_DOCUMENT_10', 'FLAG_DOCUMENT_11',\n",
    "       'FLAG_DOCUMENT_12', 'FLAG_DOCUMENT_13', 'FLAG_DOCUMENT_14',\n",
    "       'FLAG_DOCUMENT_15', 'FLAG_DOCUMENT_16', 'FLAG_DOCUMENT_17',\n",
    "       'FLAG_DOCUMENT_18', 'FLAG_DOCUMENT_19', 'FLAG_DOCUMENT_20',\n",
    "       'FLAG_DOCUMENT_21']\n",
    "\n",
    "\n",
    "draft1missing = ['AMT_ANNUITY', 'AMT_GOODS_PRICE', 'NAME_TYPE_SUITE', 'OWN_CAR_AGE', 'OCCUPATION_TYPE',]\n",
    "\n",
    "\n",
    "draft1transform = ['NAME_CONTRACT_TYPE',  'FLAG_OWN_CAR', 'FLAG_OWN_REALTY','NAME_TYPE_SUITE', 'NAME_INCOME_TYPE',\n",
    "                   'NAME_EDUCATION_TYPE','NAME_FAMILY_STATUS',\n",
    "                  'NAME_HOUSING_TYPE','OCCUPATION_TYPE','ORGANIZATION_TYPE',]"
   ]
  },
  {
   "cell_type": "code",
   "execution_count": null,
   "id": "8610b768-b821-4501-ae39-b1e7ad3d9ebb",
   "metadata": {},
   "outputs": [],
   "source": []
  }
 ],
 "metadata": {
  "kernelspec": {
   "display_name": "Python 3 (ipykernel)",
   "language": "python",
   "name": "python3"
  },
  "language_info": {
   "codemirror_mode": {
    "name": "ipython",
    "version": 3
   },
   "file_extension": ".py",
   "mimetype": "text/x-python",
   "name": "python",
   "nbconvert_exporter": "python",
   "pygments_lexer": "ipython3",
   "version": "3.12.4"
  }
 },
 "nbformat": 4,
 "nbformat_minor": 5
}
